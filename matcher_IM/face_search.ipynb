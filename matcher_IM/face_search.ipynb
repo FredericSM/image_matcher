{
 "cells": [
  {
   "cell_type": "code",
   "execution_count": null,
   "id": "12c434d1",
   "metadata": {},
   "outputs": [],
   "source": [
    "import os\n",
    "from deepface import DeepFace\n",
    "import numpy as np\n",
    "\n",
    "def cosine_distance(v1, v2):\n",
    "    v1 = np.array(v1)\n",
    "    v2 = np.array(v2)\n",
    "    return 1 - np.dot(v1, v2) / (np.linalg.norm(v1) * np.linalg.norm(v2))\n",
    "from PIL import Image\n",
    "from tqdm import tqdm\n",
    "import shutil\n",
    "\n",
    "# --- CONFIGURATION ---\n",
    "PHOTO_DIR = \"photos_face\"\n",
    "QUERY_IMAGE = \"selfie.png\"\n",
    "RESULTS_DIR = \"photos_match\"\n",
    "SEUIL_COSINE = 0.35  # Plus petit = plus strict\n",
    "\n"
   ]
  },
  {
   "cell_type": "code",
   "execution_count": null,
   "id": "6c648b1f",
   "metadata": {},
   "outputs": [],
   "source": [
    "os.makedirs(RESULTS_DIR, exist_ok=True)\n",
    "\n",
    "# --- EMBEDDING DU SELFIE ---\n",
    "print(\"🔍 Analyse du selfie...\")\n",
    "query_rep = DeepFace.represent(img_path=QUERY_IMAGE, model_name=\"Facenet\", detector_backend=\"opencv\")[0]\n",
    "query_emb = query_rep[\"embedding\"]\n",
    "\n",
    "# --- PARCOURS DES PHOTOS ---\n",
    "print(\"\\n📂 Recherche de visages similaires dans le dossier...\")\n",
    "matches = []\n",
    "\n",
    "for file in tqdm(os.listdir(PHOTO_DIR)):\n",
    "    path = os.path.join(PHOTO_DIR, file)\n",
    "    if not file.lower().endswith((\".jpg\", \".jpeg\", \".png\")):\n",
    "        continue\n",
    "    try:\n",
    "        rep = DeepFace.represent(img_path=path, model_name=\"Facenet\", detector_backend=\"opencv\", enforce_detection=False)\n",
    "        if isinstance(rep, list) and len(rep) > 0:\n",
    "            emb = rep[0][\"embedding\"]\n",
    "            distance = cosine_distance(query_emb, emb)\n",
    "            if distance < SEUIL_COSINE:\n",
    "                matches.append((path, distance))\n",
    "                shutil.copy(path, os.path.join(RESULTS_DIR, file))\n",
    "    except Exception as e:\n",
    "        print(f\"Erreur pour {file} : {e}\")\n",
    "\n",
    "# --- AFFICHAGE DES RÉSULTATS ---\n",
    "print(f\"\\n✅ {len(matches)} photo(s) similaire(s) trouvée(s) :\")\n",
    "for path, score in sorted(matches, key=lambda x: x[1]):\n",
    "    print(f\"{path} - Similarité (cosine) : {score:.4f}\")\n"
   ]
  }
 ],
 "metadata": {
  "kernelspec": {
   "display_name": "venv310",
   "language": "python",
   "name": "python3"
  },
  "language_info": {
   "name": "python",
   "version": "3.10.17"
  }
 },
 "nbformat": 4,
 "nbformat_minor": 5
}
